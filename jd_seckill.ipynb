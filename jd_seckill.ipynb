{
 "cells": [
  {
   "cell_type": "code",
   "execution_count": 3,
   "metadata": {},
   "outputs": [
    {
     "name": "stdout",
     "output_type": "stream",
     "text": [
      "\n",
      "\n",
      "       oooo oooooooooo.            .oooooo..o                     oooo         o8o  oooo  oooo  \n",
      "       `888 `888'   `Y8b          d8P'    `Y8                     `888         `\"'  `888  `888  \n",
      "        888  888      888         Y88bo.       .ooooo.   .ooooo.   888  oooo  oooo   888   888  \n",
      "        888  888      888          `\"Y8888o.  d88' `88b d88' `\"Y8  888 .8P'   `888   888   888  \n",
      "        888  888      888 8888888      `\"Y88b 888ooo888 888        888888.     888   888   888  \n",
      "        888  888     d88'         oo     .d8P 888    .o 888   .o8  888 `88b.   888   888   888  \n",
      "    .o. 88P o888bood8P'           8\"\"88888P'  `Y8bod8P' `Y8bod8P' o888o o888o o888o o888o o888o \n",
      "    `Y888P                                                                                                                                                  \n",
      "                                               \n",
      "功能列表：                                                                                \n",
      " 1.预约商品\n",
      " 2.秒杀抢购商品\n",
      "    \n",
      "请选择:1\n"
     ]
    },
    {
     "name": "stderr",
     "output_type": "stream",
     "text": [
      "2020-12-30 13:52:31,613 - 6687-MainThread - /Users/huangzhijie/Documents/jhye_tools/jd_seckill/jd_spider_requests.py[line:312] - INFO: reserve 需登陆后调用，开始扫码登陆\n",
      "2020-12-30 13:52:31,733 - 6687-MainThread - /Users/huangzhijie/Documents/jhye_tools/jd_seckill/jd_spider_requests.py[line:178] - INFO: 二维码获取成功，请打开京东APP扫描\n",
      "2020-12-30 13:52:31,827 - 6687-MainThread - /Users/huangzhijie/Documents/jhye_tools/jd_seckill/jd_spider_requests.py[line:209] - INFO: Code: 201, Message: 二维码未扫描，请扫描二维码\n",
      "2020-12-30 13:52:33,882 - 6687-MainThread - /Users/huangzhijie/Documents/jhye_tools/jd_seckill/jd_spider_requests.py[line:209] - INFO: Code: 201, Message: 二维码未扫描，请扫描二维码\n",
      "2020-12-30 13:52:35,936 - 6687-MainThread - /Users/huangzhijie/Documents/jhye_tools/jd_seckill/jd_spider_requests.py[line:209] - INFO: Code: 201, Message: 二维码未扫描，请扫描二维码\n",
      "2020-12-30 13:52:37,986 - 6687-MainThread - /Users/huangzhijie/Documents/jhye_tools/jd_seckill/jd_spider_requests.py[line:209] - INFO: Code: 201, Message: 二维码未扫描，请扫描二维码\n",
      "2020-12-30 13:52:40,041 - 6687-MainThread - /Users/huangzhijie/Documents/jhye_tools/jd_seckill/jd_spider_requests.py[line:209] - INFO: Code: 201, Message: 二维码未扫描，请扫描二维码\n",
      "2020-12-30 13:52:42,095 - 6687-MainThread - /Users/huangzhijie/Documents/jhye_tools/jd_seckill/jd_spider_requests.py[line:209] - INFO: Code: 201, Message: 二维码未扫描，请扫描二维码\n",
      "2020-12-30 13:52:44,158 - 6687-MainThread - /Users/huangzhijie/Documents/jhye_tools/jd_seckill/jd_spider_requests.py[line:209] - INFO: Code: 201, Message: 二维码未扫描，请扫描二维码\n",
      "2020-12-30 13:52:46,248 - 6687-MainThread - /Users/huangzhijie/Documents/jhye_tools/jd_seckill/jd_spider_requests.py[line:209] - INFO: Code: 201, Message: 二维码未扫描，请扫描二维码\n",
      "2020-12-30 13:52:48,298 - 6687-MainThread - /Users/huangzhijie/Documents/jhye_tools/jd_seckill/jd_spider_requests.py[line:209] - INFO: Code: 201, Message: 二维码未扫描，请扫描二维码\n",
      "2020-12-30 13:52:50,343 - 6687-MainThread - /Users/huangzhijie/Documents/jhye_tools/jd_seckill/jd_spider_requests.py[line:209] - INFO: Code: 201, Message: 二维码未扫描，请扫描二维码\n",
      "2020-12-30 13:52:52,385 - 6687-MainThread - /Users/huangzhijie/Documents/jhye_tools/jd_seckill/jd_spider_requests.py[line:209] - INFO: Code: 201, Message: 二维码未扫描，请扫描二维码\n",
      "2020-12-30 13:52:54,502 - 6687-MainThread - /Users/huangzhijie/Documents/jhye_tools/jd_seckill/jd_spider_requests.py[line:209] - INFO: Code: 201, Message: 二维码未扫描，请扫描二维码\n",
      "2020-12-30 13:52:56,550 - 6687-MainThread - /Users/huangzhijie/Documents/jhye_tools/jd_seckill/jd_spider_requests.py[line:209] - INFO: Code: 201, Message: 二维码未扫描，请扫描二维码\n",
      "2020-12-30 13:52:58,594 - 6687-MainThread - /Users/huangzhijie/Documents/jhye_tools/jd_seckill/jd_spider_requests.py[line:209] - INFO: Code: 201, Message: 二维码未扫描，请扫描二维码\n",
      "2020-12-30 13:53:00,640 - 6687-MainThread - /Users/huangzhijie/Documents/jhye_tools/jd_seckill/jd_spider_requests.py[line:209] - INFO: Code: 201, Message: 二维码未扫描，请扫描二维码\n",
      "2020-12-30 13:53:02,688 - 6687-MainThread - /Users/huangzhijie/Documents/jhye_tools/jd_seckill/jd_spider_requests.py[line:209] - INFO: Code: 201, Message: 二维码未扫描，请扫描二维码\n",
      "2020-12-30 13:53:04,703 - 6687-MainThread - /Users/huangzhijie/Documents/jhye_tools/jd_seckill/jd_spider_requests.py[line:209] - INFO: Code: 201, Message: 二维码未扫描，请扫描二维码\n",
      "2020-12-30 13:53:06,723 - 6687-MainThread - /Users/huangzhijie/Documents/jhye_tools/jd_seckill/jd_spider_requests.py[line:209] - INFO: Code: 201, Message: 二维码未扫描，请扫描二维码\n",
      "2020-12-30 13:53:08,750 - 6687-MainThread - /Users/huangzhijie/Documents/jhye_tools/jd_seckill/jd_spider_requests.py[line:209] - INFO: Code: 201, Message: 二维码未扫描，请扫描二维码\n",
      "2020-12-30 13:53:10,772 - 6687-MainThread - /Users/huangzhijie/Documents/jhye_tools/jd_seckill/jd_spider_requests.py[line:209] - INFO: Code: 201, Message: 二维码未扫描，请扫描二维码\n"
     ]
    },
    {
     "ename": "KeyboardInterrupt",
     "evalue": "",
     "output_type": "error",
     "traceback": [
      "\u001b[0;31m---------------------------------------------------------------------------\u001b[0m",
      "\u001b[0;31mKeyboardInterrupt\u001b[0m                         Traceback (most recent call last)",
      "\u001b[0;32m<ipython-input-3-0b5f86ecf707>\u001b[0m in \u001b[0;36m<module>\u001b[0;34m\u001b[0m\n\u001b[1;32m     24\u001b[0m     \u001b[0mchoice_function\u001b[0m \u001b[0;34m=\u001b[0m \u001b[0minput\u001b[0m\u001b[0;34m(\u001b[0m\u001b[0;34m'请选择:'\u001b[0m\u001b[0;34m)\u001b[0m\u001b[0;34m\u001b[0m\u001b[0;34m\u001b[0m\u001b[0m\n\u001b[1;32m     25\u001b[0m     \u001b[0;32mif\u001b[0m \u001b[0mchoice_function\u001b[0m \u001b[0;34m==\u001b[0m \u001b[0;34m'1'\u001b[0m\u001b[0;34m:\u001b[0m\u001b[0;34m\u001b[0m\u001b[0;34m\u001b[0m\u001b[0m\n\u001b[0;32m---> 26\u001b[0;31m         \u001b[0mjd_seckill\u001b[0m\u001b[0;34m.\u001b[0m\u001b[0mreserve\u001b[0m\u001b[0;34m(\u001b[0m\u001b[0;34m)\u001b[0m\u001b[0;34m\u001b[0m\u001b[0;34m\u001b[0m\u001b[0m\n\u001b[0m\u001b[1;32m     27\u001b[0m     \u001b[0;32melif\u001b[0m \u001b[0mchoice_function\u001b[0m \u001b[0;34m==\u001b[0m \u001b[0;34m'2'\u001b[0m\u001b[0;34m:\u001b[0m\u001b[0;34m\u001b[0m\u001b[0;34m\u001b[0m\u001b[0m\n\u001b[1;32m     28\u001b[0m         \u001b[0mjd_seckill\u001b[0m\u001b[0;34m.\u001b[0m\u001b[0mseckill_by_proc_pool\u001b[0m\u001b[0;34m(\u001b[0m\u001b[0;34m)\u001b[0m\u001b[0;34m\u001b[0m\u001b[0;34m\u001b[0m\u001b[0m\n",
      "\u001b[0;32m~/Documents/jhye_tools/jd_seckill/jd_spider_requests.py\u001b[0m in \u001b[0;36mnew_func\u001b[0;34m(self, *args, **kwargs)\u001b[0m\n\u001b[1;32m    311\u001b[0m             \u001b[0;32mif\u001b[0m \u001b[0;32mnot\u001b[0m \u001b[0mself\u001b[0m\u001b[0;34m.\u001b[0m\u001b[0mqrlogin\u001b[0m\u001b[0;34m.\u001b[0m\u001b[0mis_login\u001b[0m\u001b[0;34m:\u001b[0m\u001b[0;34m\u001b[0m\u001b[0;34m\u001b[0m\u001b[0m\n\u001b[1;32m    312\u001b[0m                 \u001b[0mlogger\u001b[0m\u001b[0;34m.\u001b[0m\u001b[0minfo\u001b[0m\u001b[0;34m(\u001b[0m\u001b[0;34m\"{0} 需登陆后调用，开始扫码登陆\"\u001b[0m\u001b[0;34m.\u001b[0m\u001b[0mformat\u001b[0m\u001b[0;34m(\u001b[0m\u001b[0mfunc\u001b[0m\u001b[0;34m.\u001b[0m\u001b[0m__name__\u001b[0m\u001b[0;34m)\u001b[0m\u001b[0;34m)\u001b[0m\u001b[0;34m\u001b[0m\u001b[0;34m\u001b[0m\u001b[0m\n\u001b[0;32m--> 313\u001b[0;31m                 \u001b[0mself\u001b[0m\u001b[0;34m.\u001b[0m\u001b[0mlogin_by_qrcode\u001b[0m\u001b[0;34m(\u001b[0m\u001b[0;34m)\u001b[0m\u001b[0;34m\u001b[0m\u001b[0;34m\u001b[0m\u001b[0m\n\u001b[0m\u001b[1;32m    314\u001b[0m             \u001b[0;32mreturn\u001b[0m \u001b[0mfunc\u001b[0m\u001b[0;34m(\u001b[0m\u001b[0mself\u001b[0m\u001b[0;34m,\u001b[0m \u001b[0;34m*\u001b[0m\u001b[0margs\u001b[0m\u001b[0;34m,\u001b[0m \u001b[0;34m**\u001b[0m\u001b[0mkwargs\u001b[0m\u001b[0;34m)\u001b[0m\u001b[0;34m\u001b[0m\u001b[0;34m\u001b[0m\u001b[0m\n\u001b[1;32m    315\u001b[0m         \u001b[0;32mreturn\u001b[0m \u001b[0mnew_func\u001b[0m\u001b[0;34m\u001b[0m\u001b[0;34m\u001b[0m\u001b[0m\n",
      "\u001b[0;32m~/Documents/jhye_tools/jd_seckill/jd_spider_requests.py\u001b[0m in \u001b[0;36mlogin_by_qrcode\u001b[0;34m(self)\u001b[0m\n\u001b[1;32m    295\u001b[0m             \u001b[0;32mreturn\u001b[0m\u001b[0;34m\u001b[0m\u001b[0;34m\u001b[0m\u001b[0m\n\u001b[1;32m    296\u001b[0m \u001b[0;34m\u001b[0m\u001b[0m\n\u001b[0;32m--> 297\u001b[0;31m         \u001b[0mself\u001b[0m\u001b[0;34m.\u001b[0m\u001b[0mqrlogin\u001b[0m\u001b[0;34m.\u001b[0m\u001b[0mlogin_by_qrcode\u001b[0m\u001b[0;34m(\u001b[0m\u001b[0;34m)\u001b[0m\u001b[0;34m\u001b[0m\u001b[0;34m\u001b[0m\u001b[0m\n\u001b[0m\u001b[1;32m    298\u001b[0m \u001b[0;34m\u001b[0m\u001b[0m\n\u001b[1;32m    299\u001b[0m         \u001b[0;32mif\u001b[0m \u001b[0mself\u001b[0m\u001b[0;34m.\u001b[0m\u001b[0mqrlogin\u001b[0m\u001b[0;34m.\u001b[0m\u001b[0mis_login\u001b[0m\u001b[0;34m:\u001b[0m\u001b[0;34m\u001b[0m\u001b[0;34m\u001b[0m\u001b[0m\n",
      "\u001b[0;32m~/Documents/jhye_tools/jd_seckill/jd_spider_requests.py\u001b[0m in \u001b[0;36mlogin_by_qrcode\u001b[0;34m(self)\u001b[0m\n\u001b[1;32m    254\u001b[0m             \u001b[0;32mif\u001b[0m \u001b[0mticket\u001b[0m\u001b[0;34m:\u001b[0m\u001b[0;34m\u001b[0m\u001b[0;34m\u001b[0m\u001b[0m\n\u001b[1;32m    255\u001b[0m                 \u001b[0;32mbreak\u001b[0m\u001b[0;34m\u001b[0m\u001b[0;34m\u001b[0m\u001b[0m\n\u001b[0;32m--> 256\u001b[0;31m             \u001b[0mtime\u001b[0m\u001b[0;34m.\u001b[0m\u001b[0msleep\u001b[0m\u001b[0;34m(\u001b[0m\u001b[0;36m2\u001b[0m\u001b[0;34m)\u001b[0m\u001b[0;34m\u001b[0m\u001b[0;34m\u001b[0m\u001b[0m\n\u001b[0m\u001b[1;32m    257\u001b[0m         \u001b[0;32melse\u001b[0m\u001b[0;34m:\u001b[0m\u001b[0;34m\u001b[0m\u001b[0;34m\u001b[0m\u001b[0m\n\u001b[1;32m    258\u001b[0m             \u001b[0;32mraise\u001b[0m \u001b[0mSKException\u001b[0m\u001b[0;34m(\u001b[0m\u001b[0;34m'二维码过期，请重新获取扫描'\u001b[0m\u001b[0;34m)\u001b[0m\u001b[0;34m\u001b[0m\u001b[0;34m\u001b[0m\u001b[0m\n",
      "\u001b[0;31mKeyboardInterrupt\u001b[0m: "
     ]
    }
   ],
   "source": [
    "import sys\n",
    "from jd_spider_requests import JdSeckill\n",
    "\n",
    "\n",
    "if __name__ == '__main__':\n",
    "    a = \"\"\"\n",
    "\n",
    "       oooo oooooooooo.            .oooooo..o                     oooo         o8o  oooo  oooo  \n",
    "       `888 `888'   `Y8b          d8P'    `Y8                     `888         `\"'  `888  `888  \n",
    "        888  888      888         Y88bo.       .ooooo.   .ooooo.   888  oooo  oooo   888   888  \n",
    "        888  888      888          `\"Y8888o.  d88' `88b d88' `\"Y8  888 .8P'   `888   888   888  \n",
    "        888  888      888 8888888      `\"Y88b 888ooo888 888        888888.     888   888   888  \n",
    "        888  888     d88'         oo     .d8P 888    .o 888   .o8  888 `88b.   888   888   888  \n",
    "    .o. 88P o888bood8P'           8\"\"88888P'  `Y8bod8P' `Y8bod8P' o888o o888o o888o o888o o888o \n",
    "    `Y888P                                                                                                                                                  \n",
    "                                               \n",
    "功能列表：                                                                                \n",
    " 1.预约商品\n",
    " 2.秒杀抢购商品\n",
    "    \"\"\"\n",
    "    print(a)\n",
    "\n",
    "    jd_seckill = JdSeckill()\n",
    "    choice_function = input('请选择:')\n",
    "    if choice_function == '1':\n",
    "        jd_seckill.reserve()\n",
    "    elif choice_function == '2':\n",
    "        jd_seckill.seckill_by_proc_pool()\n",
    "    else:\n",
    "        print('没有此功能')\n",
    "        sys.exit(1)\n",
    "\n"
   ]
  },
  {
   "cell_type": "code",
   "execution_count": null,
   "metadata": {},
   "outputs": [],
   "source": []
  }
 ],
 "metadata": {
  "kernelspec": {
   "display_name": "Python 3",
   "language": "python",
   "name": "python3"
  },
  "language_info": {
   "codemirror_mode": {
    "name": "ipython",
    "version": 3
   },
   "file_extension": ".py",
   "mimetype": "text/x-python",
   "name": "python",
   "nbconvert_exporter": "python",
   "pygments_lexer": "ipython3",
   "version": "3.7.4"
  }
 },
 "nbformat": 4,
 "nbformat_minor": 2
}
